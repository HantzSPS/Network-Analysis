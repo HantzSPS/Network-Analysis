{
 "cells": [
  {
   "cell_type": "markdown",
   "metadata": {},
   "source": [
    "Hantz Angrand  \n",
    "Homework 8  \n",
    "3/22/2020"
   ]
  },
  {
   "cell_type": "markdown",
   "metadata": {},
   "source": [
    "NLTK includes a small selection of texts from the Project Gutenberg electronic text archive, which contains some 25,000 free electronic books, hosted at http://www.gutenberg.org/"
   ]
  },
  {
   "cell_type": "code",
   "execution_count": 1,
   "metadata": {},
   "outputs": [],
   "source": [
    "import nltk\n",
    "from nltk.corpus import gutenberg"
   ]
  },
  {
   "cell_type": "markdown",
   "metadata": {},
   "source": [
    "2. How many total unique words are in the corpus?  (Please feel free to define unique words in any interesting, defensible way). "
   ]
  },
  {
   "cell_type": "code",
   "execution_count": 2,
   "metadata": {},
   "outputs": [
    {
     "name": "stderr",
     "output_type": "stream",
     "text": [
      "[nltk_data] Downloading package gutenberg to\n",
      "[nltk_data]     C:\\Users\\hangr\\AppData\\Roaming\\nltk_data...\n",
      "[nltk_data]   Package gutenberg is already up-to-date!\n"
     ]
    },
    {
     "data": {
      "text/plain": [
       "['austen-emma.txt',\n",
       " 'austen-persuasion.txt',\n",
       " 'austen-sense.txt',\n",
       " 'bible-kjv.txt',\n",
       " 'blake-poems.txt',\n",
       " 'bryant-stories.txt',\n",
       " 'burgess-busterbrown.txt',\n",
       " 'carroll-alice.txt',\n",
       " 'chesterton-ball.txt',\n",
       " 'chesterton-brown.txt',\n",
       " 'chesterton-thursday.txt',\n",
       " 'edgeworth-parents.txt',\n",
       " 'melville-moby_dick.txt',\n",
       " 'milton-paradise.txt',\n",
       " 'shakespeare-caesar.txt',\n",
       " 'shakespeare-hamlet.txt',\n",
       " 'shakespeare-macbeth.txt',\n",
       " 'whitman-leaves.txt']"
      ]
     },
     "execution_count": 2,
     "metadata": {},
     "output_type": "execute_result"
    }
   ],
   "source": [
    "nltk.download('gutenberg')\n",
    "nltk.corpus.gutenberg.fileids()"
   ]
  },
  {
   "cell_type": "code",
   "execution_count": 3,
   "metadata": {},
   "outputs": [
    {
     "data": {
      "text/plain": [
       "25833"
      ]
     },
     "execution_count": 3,
     "metadata": {},
     "output_type": "execute_result"
    }
   ],
   "source": [
    "#Number of words in total in the corpus\n",
    "shakespeare = nltk.corpus.gutenberg.words('shakespeare-caesar.txt')\n",
    "len(shakespeare)"
   ]
  },
  {
   "cell_type": "markdown",
   "metadata": {},
   "source": [
    "Removing stop words in the corpus"
   ]
  },
  {
   "cell_type": "code",
   "execution_count": 4,
   "metadata": {},
   "outputs": [],
   "source": [
    "stopwords = nltk.corpus.stopwords.words('english')\n",
    "content = [w for w in shakespeare if w.lower() not in stopwords]"
   ]
  },
  {
   "cell_type": "code",
   "execution_count": 5,
   "metadata": {},
   "outputs": [
    {
     "data": {
      "text/plain": [
       "16087"
      ]
     },
     "execution_count": 5,
     "metadata": {},
     "output_type": "execute_result"
    }
   ],
   "source": [
    "len(content)"
   ]
  },
  {
   "cell_type": "code",
   "execution_count": 6,
   "metadata": {},
   "outputs": [
    {
     "data": {
      "text/plain": [
       "11127"
      ]
     },
     "execution_count": 6,
     "metadata": {},
     "output_type": "execute_result"
    }
   ],
   "source": [
    "getVals = list([val for val in content\n",
    "               if val.isalpha() or val.isnumeric()]) \n",
    "len(getVals)"
   ]
  },
  {
   "cell_type": "code",
   "execution_count": 7,
   "metadata": {},
   "outputs": [
    {
     "name": "stdout",
     "output_type": "stream",
     "text": [
      "unique word is 2916\n"
     ]
    }
   ],
   "source": [
    "uniq_word = set(w.lower() for w in getVals)\n",
    "print(\"unique word is\" ,len(uniq_word))"
   ]
  },
  {
   "cell_type": "markdown",
   "metadata": {},
   "source": [
    "3. Taking the most common words, how many unique words represent half of the total words in the corpus? "
   ]
  },
  {
   "cell_type": "code",
   "execution_count": 8,
   "metadata": {},
   "outputs": [
    {
     "name": "stdout",
     "output_type": "stream",
     "text": [
      "[('Caesar', 189), ('Brutus', 161), ('Bru', 153), ('haue', 128), ('shall', 107), ('Cassi', 107), ('thou', 100), ('Cassius', 85), ('Antony', 75), ('know', 66)]\n"
     ]
    }
   ],
   "source": [
    "# Get the most common words in each text\n",
    "fdist = nltk.FreqDist(getVals)\n",
    "print (fdist.most_common(10))"
   ]
  },
  {
   "cell_type": "code",
   "execution_count": 9,
   "metadata": {},
   "outputs": [
    {
     "data": {
      "text/plain": [
       "1196"
      ]
     },
     "execution_count": 9,
     "metadata": {},
     "output_type": "execute_result"
    }
   ],
   "source": [
    "#how many unique words represent half of the total words in the corpus\n",
    "gval=getVals[round(0.5*len(getVals)):]\n",
    "#print(gval)\n",
    "unw = [w for w in uniq_word if w in gval]\n",
    "len(unw)"
   ]
  },
  {
   "cell_type": "markdown",
   "metadata": {},
   "source": [
    "Identify the 200 highest frequency words in this corpus"
   ]
  },
  {
   "cell_type": "code",
   "execution_count": 55,
   "metadata": {},
   "outputs": [
    {
     "name": "stdout",
     "output_type": "stream",
     "text": [
      "[('Caesar', 189), ('Brutus', 161), ('Bru', 153), ('haue', 128), ('shall', 107), ('Cassi', 107), ('thou', 100), ('Cassius', 85), ('Antony', 75), ('know', 66), ('Enter', 63), ('men', 62), ('vs', 62), ('man', 58), ('thee', 55), ('come', 50), ('good', 49), ('Ant', 48), ('thy', 46), ('day', 44), ('Lord', 44), ('well', 43), ('let', 42), ('heere', 41), ('would', 40), ('st', 39), ('selfe', 39), ('Caes', 39), ('Noble', 39), ('Rome', 38), ('Caesars', 38), ('Cask', 38), ('Brut', 37), ('vpon', 36), ('may', 35), ('heare', 34), ('say', 33), ('see', 33), ('Caska', 33), ('tell', 33), ('like', 33), ('one', 32), ('vp', 31), ('must', 30), ('go', 30), ('doth', 29), ('Let', 29), ('hath', 29), ('much', 28), ('feare', 28), ('Luc', 28), ('yet', 27), ('euery', 27), ('speake', 27), ('hand', 26), ('loue', 26), ('death', 26), ('Cinna', 26), ('Lucius', 26), ('great', 25), ('Gods', 25), ('Messala', 25), ('time', 24), ('Come', 24), ('make', 23), ('downe', 23), ('Friends', 23), ('Titinius', 23), ('done', 23), ('night', 23), ('Octauius', 23), ('Exeunt', 22), ('giue', 22), ('Good', 22), ('Cas', 21), ('take', 21), ('stand', 21), ('Haue', 20), ('beare', 20), ('mine', 20), ('word', 20), ('wrong', 20), ('blood', 19), ('till', 19), ('looke', 19), ('thinke', 19), ('hee', 19), ('Night', 19), ('forth', 19), ('1', 19), ('2', 19), ('Messa', 19), ('art', 18), ('Heere', 18), ('leaue', 18), ('againe', 18), ('could', 18), ('true', 18), ('Romans', 18), ('fire', 18), ('thing', 18), ('place', 18), ('Shall', 18), ('heart', 18), ('Octa', 18), ('Sir', 17), ('Capitoll', 17), ('finde', 17), ('Decius', 17), ('Friend', 17), ('l', 17), ('liue', 16), ('euer', 16), ('things', 16), ('made', 16), ('Por', 16), ('3', 16), ('4', 16), ('Thou', 15), ('many', 15), ('put', 15), ('part', 15), ('Yet', 15), ('morrow', 15), ('dead', 15), ('stay', 15), ('way', 14), ('away', 14), ('Stand', 14), ('shew', 14), ('name', 14), ('World', 14), ('Marke', 14), ('hast', 14), ('Roman', 14), ('hands', 14), ('cause', 14), ('dye', 14), ('Mark', 14), ('Lucillius', 14), ('follow', 13), ('comes', 13), ('Ile', 13), ('Portia', 13), ('eyes', 13), ('himselfe', 13), ('Giue', 13), ('thus', 13), ('better', 13), ('Sword', 13), ('Metellus', 13), ('Boy', 13), ('Caius', 13), ('home', 12), ('Vpon', 12), ('best', 12), ('bad', 12), ('else', 12), ('Peace', 12), ('March', 12), ('Spirit', 12), ('might', 12), ('neuer', 12), ('fell', 12), ('Exit', 12), ('bid', 12), ('house', 12), ('tis', 12), ('Brother', 12), ('Cato', 12), ('Pindarus', 12), ('fall', 11), ('Go', 11), ('Cicero', 11), ('Sooth', 11), ('still', 11), ('face', 11), ('Tis', 11), ('Honor', 11), ('body', 11), ('sicke', 11), ('answer', 11), ('words', 11), ('Crowne', 11), ('backe', 11), ('owne', 11), ('doe', 11), ('Trebonius', 11), ('first', 11), ('Honourable', 11), ('Ser', 11), ('Publius', 11), ('Master', 11), ('Philippi', 11), ('vse', 10), ('gone', 10), ('hearts', 10), ('matter', 10), ('keepe', 10), ('Calphurnia', 10)]\n"
     ]
    }
   ],
   "source": [
    "fdist = nltk.FreqDist(getVals)\n",
    "print (fdist.most_common(200))"
   ]
  },
  {
   "cell_type": "markdown",
   "metadata": {},
   "source": [
    "Create a graph that shows the relative frequency of these 200 words"
   ]
  },
  {
   "cell_type": "code",
   "execution_count": 56,
   "metadata": {},
   "outputs": [
    {
     "data": {
      "image/png": "[encoded data removed]",
      "text/plain": [
       "<Figure size 432x288 with 1 Axes>"
      ]
     },
     "metadata": {
      "needs_background": "light"
     },
     "output_type": "display_data"
    },
    {
     "data": {
      "text/plain": [
       "<matplotlib.axes._subplots.AxesSubplot at 0x1d59f8199e8>"
      ]
     },
     "execution_count": 56,
     "metadata": {},
     "output_type": "execute_result"
    }
   ],
   "source": [
    "fdist.plot(cumulative=True)"
   ]
  },
  {
   "cell_type": "markdown",
   "metadata": {},
   "source": [
    "Zipf's law simply states that given some corpus (large and structured set of texts) of natural language utterances, the occurrence of the most frequent word will be approximately twice as often as the second most frequent word, three times as the third most frequent word, four times as the fourth most frequent word, and so forth."
   ]
  },
  {
   "cell_type": "code",
   "execution_count": null,
   "metadata": {},
   "outputs": [],
   "source": []
  },
  {
   "cell_type": "code",
   "execution_count": 14,
   "metadata": {},
   "outputs": [
    {
     "data": {
      "image/png": "[encoded data removed]",
      "text/plain": [
       "<Figure size 432x288 with 1 Axes>"
      ]
     },
     "metadata": {
      "needs_background": "light"
     },
     "output_type": "display_data"
    }
   ],
   "source": [
    "from matplotlib import pylab\n",
    "#from tokenizer import tokenize, words_by_frequency, count_word\n",
    "\n",
    "n = len(fdist)\n",
    "ranks = range(1, n+1)                     # x-axis: the ranks\n",
    "freqs = [freq for freq in fdist] # y-axis: the frequencies\n",
    "pylab.loglog(ranks, freqs) #this plots frequency, not relative frequency\n",
    "pylab.xlabel('log(rank)')\n",
    "#pylab.ylabel('log(freq)')\n",
    "#pylab.legend(loc='lower left')\n",
    "pylab.show()"
   ]
  },
  {
   "cell_type": "markdown",
   "metadata": {},
   "source": [
    "It doesn't follow the zipf's law.  The most frequent word is not as twice as the second most word.  "
   ]
  },
  {
   "cell_type": "markdown",
   "metadata": {},
   "source": [
    "7. In what ways do you think the frequency of the words in this corpus differ from “all words in all corpora.”   \n",
    "The frequency of the world in this corpus differs from all word in the corpora the relatively low frequency of the world. In all the corpus the number of frequence of world would be higher."
   ]
  }
 ],
 "metadata": {
  "kernelspec": {
   "display_name": "Python 3",
   "language": "python",
   "name": "python3"
  },
  "language_info": {
   "codemirror_mode": {
    "name": "ipython",
    "version": 3
   },
   "file_extension": ".py",
   "mimetype": "text/x-python",
   "name": "python",
   "nbconvert_exporter": "python",
   "pygments_lexer": "ipython3",
   "version": "3.7.0"
  }
 },
 "nbformat": 4,
 "nbformat_minor": 2
}
