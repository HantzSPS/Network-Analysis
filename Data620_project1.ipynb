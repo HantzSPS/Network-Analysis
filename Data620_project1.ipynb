{
 "cells": [
  {
   "cell_type": "markdown",
   "metadata": {},
   "source": [
    "Hantz Angrand \n",
    "Data 620 Project 1 \n",
    "Title: Riders of citybike in NYC"
   ]
  },
  {
   "cell_type": "markdown",
   "metadata": {},
   "source": [
    "For your first project, you are asked to Identify and load a network dataset that has some categorical information available for each node. For each of the nodes in the dataset, calculate degree centrality and eigenvector centrality. Compare your centrality measures across your categorical groups. For example, using the dataset from a study of romantic relationships among high school students in Columbus, Ohio [http://researchnews.osu.edu/archive/chains.htm], you might want to determine if there are any differences in your calculated centrality measures between the two sexes. You might use a t-test or another statistical measure to support your findings."
   ]
  },
  {
   "cell_type": "markdown",
   "metadata": {},
   "source": [
    "City Bike started their operation in NYC in the summer of 2013. The data collected include the following fields:\n",
    "Trip Duration (seconds) \n",
    "Start Time and Date \n",
    "Stop Time and Date \n",
    "Start Station Name \n",
    "End Station Name \n",
    "Station ID \n",
    "Station Lat/Long\n",
    "Bike ID \n",
    "User Type (Customer = 24-hour pass or 7-day pass user; Subscriber = Annual Member) \n",
    "Gender (Zero=unknown; 1=male; 2=female) \n",
    "Year of Birth"
   ]
  },
  {
   "cell_type": "markdown",
   "metadata": {},
   "source": [
    "We will focus on the Start Station and End Station as nodes, and genre as a categorical variable. Edges in the network will be bike trips between stations, which in this case means start station to end station, and will be focused only on which station the bike was picked up and returned, we are not taking into account where the bike may have been taken in between. \n",
    "\n",
    "This analysis will allow us to determine which stations are most important to the network based on various centrality measures. Furthermore, we will look for subgraphs, triads, cliques and clusters to analyze the subgraph structure of the citi-bike network. We will also compare these measures between genre."
   ]
  },
  {
   "cell_type": "code",
   "execution_count": 85,
   "metadata": {},
   "outputs": [],
   "source": [
    "import numpy as np \n",
    "import pylab \n",
    "import scipy.stats as stats"
   ]
  },
  {
   "cell_type": "code",
   "execution_count": 7,
   "metadata": {},
   "outputs": [],
   "source": [
    "# importing csv module \n",
    "import csv \n",
    "\n",
    "# csv file name \n",
    "filename = \"202001-citibike-tripdata.csv\"\n",
    "\n",
    "with open(filename, 'r') as f:\n",
    "    reader = csv.reader(f)\n",
    "    header = next(reader)"
   ]
  },
  {
   "cell_type": "code",
   "execution_count": 8,
   "metadata": {},
   "outputs": [
    {
     "data": {
      "text/plain": [
       "['start station name', 'end station name', 'gender']"
      ]
     },
     "execution_count": 8,
     "metadata": {},
     "output_type": "execute_result"
    }
   ],
   "source": [
    "[header[4],header[8],header[14]]"
   ]
  },
  {
   "cell_type": "code",
   "execution_count": 9,
   "metadata": {},
   "outputs": [],
   "source": [
    "import networkx as net\n",
    "g=net.Graph()\n",
    "\n",
    "with open('202001-citibike-tripdata.csv', 'r') as f:\n",
    "    reader = csv.reader(f)\n",
    "    next(reader)  \n",
    "    for line in reader:\n",
    "        node1 = line[4]\n",
    "        \n",
    "        node2 = line[8]\n",
    "        g.add_edge(node1,node2,genre=line[14])"
   ]
  },
  {
   "cell_type": "code",
   "execution_count": 10,
   "metadata": {},
   "outputs": [],
   "source": [
    "import matplotlib.pyplot as plot"
   ]
  },
  {
   "cell_type": "code",
   "execution_count": 11,
   "metadata": {},
   "outputs": [],
   "source": [
    "#write the graph to a file so it doesn't have to be re-created every time\n",
    "net.write_pajek(g, \"citibike.net\")\n",
    "g=net.read_pajek(\"citibike.net\")"
   ]
  },
  {
   "cell_type": "code",
   "execution_count": 12,
   "metadata": {},
   "outputs": [
    {
     "data": {
      "text/plain": [
       "896"
      ]
     },
     "execution_count": 12,
     "metadata": {},
     "output_type": "execute_result"
    }
   ],
   "source": [
    "len(g.nodes())"
   ]
  },
  {
   "cell_type": "code",
   "execution_count": 13,
   "metadata": {},
   "outputs": [
    {
     "data": {
      "text/plain": [
       "99419"
      ]
     },
     "execution_count": 13,
     "metadata": {},
     "output_type": "execute_result"
    }
   ],
   "source": [
    "len(g.edges())"
   ]
  },
  {
   "cell_type": "code",
   "execution_count": 14,
   "metadata": {},
   "outputs": [
    {
     "data": {
      "text/plain": [
       "('1 Ave & E 16 St', 'Broadway & W 38 St')"
      ]
     },
     "execution_count": 14,
     "metadata": {},
     "output_type": "execute_result"
    }
   ],
   "source": [
    "g.edges()[100]"
   ]
  },
  {
   "cell_type": "code",
   "execution_count": 15,
   "metadata": {},
   "outputs": [
    {
     "data": {
      "text/plain": [
       "{0: {'weight': 1.0, 'genre': '1'}}"
      ]
     },
     "execution_count": 15,
     "metadata": {},
     "output_type": "execute_result"
    }
   ],
   "source": [
    "g['1 Ave & E 16 St']['Broadway & W 38 St']"
   ]
  },
  {
   "cell_type": "markdown",
   "metadata": {},
   "source": [
    "Degree Centrality: Degree is the number of connections that a node has. In this network it is the number of non-directional trip patterns that the station is part of. If a station has high degree centrality relative to other stations, this means that there are more trip patterns that begin and end at this station than at other stations"
   ]
  },
  {
   "cell_type": "code",
   "execution_count": 17,
   "metadata": {},
   "outputs": [],
   "source": [
    "#Degree of every node in the network\n",
    "deg = net.degree(g)\n"
   ]
  },
  {
   "cell_type": "code",
   "execution_count": 20,
   "metadata": {},
   "outputs": [
    {
     "data": {
      "text/plain": [
       "1"
      ]
     },
     "execution_count": 20,
     "metadata": {},
     "output_type": "execute_result"
    }
   ],
   "source": [
    "#Minimum degree of any node\n",
    "min(deg.values())"
   ]
  },
  {
   "cell_type": "code",
   "execution_count": 21,
   "metadata": {},
   "outputs": [
    {
     "data": {
      "text/plain": [
       "495"
      ]
     },
     "execution_count": 21,
     "metadata": {},
     "output_type": "execute_result"
    }
   ],
   "source": [
    "#Maximum degree of any node\n",
    "max(deg.values())"
   ]
  },
  {
   "cell_type": "code",
   "execution_count": 41,
   "metadata": {},
   "outputs": [],
   "source": [
    "#function to return a sorted degree list \n",
    "def sorted_map(m):\n",
    "    #map_dict =dict(m)\n",
    "    ms = sorted(m, key=m.__getitem__, reverse=True)\n",
    "    return ms"
   ]
  },
  {
   "cell_type": "code",
   "execution_count": 42,
   "metadata": {},
   "outputs": [],
   "source": [
    "ds = sorted_map(deg)\n"
   ]
  },
  {
   "cell_type": "code",
   "execution_count": 43,
   "metadata": {},
   "outputs": [
    {
     "data": {
      "text/plain": [
       "['S 5 Pl & S 5 St',\n",
       " 'Pershing Square North',\n",
       " 'Broadway & E 22 St',\n",
       " 'Forsyth St & Canal St',\n",
       " 'E 17 St & Broadway',\n",
       " '1 Ave & E 44 St',\n",
       " '1 Ave & E 62 St',\n",
       " 'Stanton St & Chrystie St',\n",
       " 'Grand St & Elizabeth St',\n",
       " 'E 4 St & 2 Ave']"
      ]
     },
     "execution_count": 43,
     "metadata": {},
     "output_type": "execute_result"
    }
   ],
   "source": [
    "ds[0:10]"
   ]
  },
  {
   "cell_type": "markdown",
   "metadata": {},
   "source": [
    "Those 10 stations represent the ones that are appearing in trip pattern.  "
   ]
  },
  {
   "cell_type": "code",
   "execution_count": 46,
   "metadata": {},
   "outputs": [
    {
     "data": {
      "image/png": "[encoded data removed]",
      "text/plain": [
       "<Figure size 432x288 with 1 Axes>"
      ]
     },
     "metadata": {
      "needs_background": "light"
     },
     "output_type": "display_data"
    }
   ],
   "source": [
    "#display a histogram of nodes in 50 bins\n",
    "hst=plot.hist(deg.values(),20)\n"
   ]
  },
  {
   "cell_type": "markdown",
   "metadata": {},
   "source": [
    "Closeness Centrality: We are trying to figure out the role of a station in the trip network.  A station with higher closeness is better connected to other stations based on customer trips and is an important part of the network."
   ]
  },
  {
   "cell_type": "code",
   "execution_count": 48,
   "metadata": {},
   "outputs": [],
   "source": [
    "#distance/closeness: closeness centrality\n",
    "cc = net.closeness_centrality(g)"
   ]
  },
  {
   "cell_type": "code",
   "execution_count": 49,
   "metadata": {},
   "outputs": [],
   "source": [
    "ds_cc = sorted_map(cc)"
   ]
  },
  {
   "cell_type": "markdown",
   "metadata": {},
   "source": [
    "The station with the highest centrality are:"
   ]
  },
  {
   "cell_type": "code",
   "execution_count": 50,
   "metadata": {},
   "outputs": [
    {
     "data": {
      "text/plain": [
       "['S 5 Pl & S 5 St',\n",
       " 'Pershing Square North',\n",
       " 'Broadway & E 22 St',\n",
       " 'E 17 St & Broadway',\n",
       " 'Forsyth St & Canal St',\n",
       " '1 Ave & E 62 St',\n",
       " '1 Ave & E 44 St',\n",
       " 'Grand St & Elizabeth St',\n",
       " 'Stanton St & Chrystie St',\n",
       " 'E 4 St & 2 Ave']"
      ]
     },
     "execution_count": 50,
     "metadata": {},
     "output_type": "execute_result"
    }
   ],
   "source": [
    "ds_cc[0:10]"
   ]
  },
  {
   "cell_type": "markdown",
   "metadata": {},
   "source": [
    "Those are stations that appear most often in a trip in network. let's plot the distribution"
   ]
  },
  {
   "cell_type": "code",
   "execution_count": 51,
   "metadata": {},
   "outputs": [
    {
     "data": {
      "image/png": "[encoded data removed]",
      "text/plain": [
       "<Figure size 432x288 with 1 Axes>"
      ]
     },
     "metadata": {
      "needs_background": "light"
     },
     "output_type": "display_data"
    }
   ],
   "source": [
    "h=plot.hist(cc.values(),10)"
   ]
  },
  {
   "cell_type": "markdown",
   "metadata": {},
   "source": [
    "It is left skewed normal distribution."
   ]
  },
  {
   "cell_type": "markdown",
   "metadata": {},
   "source": [
    "Betweenness centrality: \n",
    "We will study in this section which station that plays a central role.  IF the trip starts and end more often in those station, they play a hub role in the network."
   ]
  },
  {
   "cell_type": "code",
   "execution_count": 52,
   "metadata": {},
   "outputs": [],
   "source": [
    "bc=net.betweenness_centrality(g)"
   ]
  },
  {
   "cell_type": "code",
   "execution_count": 53,
   "metadata": {},
   "outputs": [],
   "source": [
    "bs = sorted_map(bc)"
   ]
  },
  {
   "cell_type": "code",
   "execution_count": 54,
   "metadata": {},
   "outputs": [
    {
     "data": {
      "text/plain": [
       "['S 5 Pl & S 5 St',\n",
       " 'Metropolitan Ave & Bedford Ave',\n",
       " 'Kent Ave & N 7 St',\n",
       " 'Queens Plaza North & Crescent St',\n",
       " 'E 4 St & 2 Ave',\n",
       " 'Broadway & E 22 St',\n",
       " 'Pershing Square North',\n",
       " '1 Ave & E 62 St',\n",
       " '1 Ave & E 44 St',\n",
       " '1 Ave & E 68 St']"
      ]
     },
     "execution_count": 54,
     "metadata": {},
     "output_type": "execute_result"
    }
   ],
   "source": [
    "#top 10 stations for Betweenness Centrality\n",
    "bs[:10]"
   ]
  },
  {
   "cell_type": "markdown",
   "metadata": {},
   "source": [
    "This list is quite different from the previous list.  It is understanble since bikers do not transfer between station. Let's plot the betweennes distribution."
   ]
  },
  {
   "cell_type": "code",
   "execution_count": 55,
   "metadata": {},
   "outputs": [
    {
     "data": {
      "image/png": "[encoded data removed]",
      "text/plain": [
       "<Figure size 432x288 with 1 Axes>"
      ]
     },
     "metadata": {
      "needs_background": "light"
     },
     "output_type": "display_data"
    }
   ],
   "source": [
    "#plot the distribution\n",
    "h=plot.hist(bc.values(),10)"
   ]
  },
  {
   "cell_type": "markdown",
   "metadata": {},
   "source": [
    "The following histogram, shows that the highest betweeness centrality is very low."
   ]
  },
  {
   "cell_type": "markdown",
   "metadata": {},
   "source": [
    "Eigenvector centrality\n",
    "Based on the importance of a station we will determine the importance for a node."
   ]
  },
  {
   "cell_type": "code",
   "execution_count": 56,
   "metadata": {},
   "outputs": [],
   "source": [
    "#change graph format to use eigenvector function\n",
    "ev = net.Graph(g)"
   ]
  },
  {
   "cell_type": "code",
   "execution_count": 57,
   "metadata": {},
   "outputs": [],
   "source": [
    "evc = net.eigenvector_centrality(ev)"
   ]
  },
  {
   "cell_type": "code",
   "execution_count": 58,
   "metadata": {},
   "outputs": [],
   "source": [
    "evcs=sorted_map(evc)"
   ]
  },
  {
   "cell_type": "code",
   "execution_count": 59,
   "metadata": {},
   "outputs": [
    {
     "data": {
      "text/plain": [
       "['Pershing Square North',\n",
       " 'Broadway & E 22 St',\n",
       " 'E 17 St & Broadway',\n",
       " 'Pershing Square South',\n",
       " '6 Ave & W 33 St',\n",
       " 'Broadway & W 25 St',\n",
       " 'E 39 St & 2 Ave',\n",
       " 'W 21 St & 6 Ave',\n",
       " '8 Ave & W 33 St',\n",
       " 'E 4 St & 2 Ave']"
      ]
     },
     "execution_count": 59,
     "metadata": {},
     "output_type": "execute_result"
    }
   ],
   "source": [
    "evcs[:10]"
   ]
  },
  {
   "cell_type": "markdown",
   "metadata": {},
   "source": [
    "Comparing the eigenvector centrality list with the centrality list we see some overlap of station and some new comers. Let's plot the histogram."
   ]
  },
  {
   "cell_type": "code",
   "execution_count": 60,
   "metadata": {},
   "outputs": [
    {
     "data": {
      "image/png": "[encoded data removed]",
      "text/plain": [
       "<Figure size 432x288 with 1 Axes>"
      ]
     },
     "metadata": {
      "needs_background": "light"
     },
     "output_type": "display_data"
    }
   ],
   "source": [
    "h=plot.hist(evc.values(),10)"
   ]
  },
  {
   "cell_type": "markdown",
   "metadata": {},
   "source": [
    "Categorical Study\n",
    "We will be looking at degree centrality and eigenvector centrality to compare the value for different categorical values.  We are using genre as a catregorical value where 1 represents male and 2 is female. We are trying to discover if it is normally distributed between genre."
   ]
  },
  {
   "cell_type": "code",
   "execution_count": 72,
   "metadata": {},
   "outputs": [],
   "source": [
    "#Let's split the data between male and female\n",
    "#edgeMale = (n for n in g if g.node[n]['region']=='1')\n",
    "edgeMale =((u,v) for u,v,d in g.edges_iter(data=True) if d['genre']== '1')\n",
    "edgeFemal =((u,v) for u,v,d in g.edges_iter(data=True) if d['genre']=='2')"
   ]
  },
  {
   "cell_type": "code",
   "execution_count": 66,
   "metadata": {},
   "outputs": [],
   "source": [
    "gM = net.Graph()"
   ]
  },
  {
   "cell_type": "code",
   "execution_count": 70,
   "metadata": {},
   "outputs": [],
   "source": [
    "gM.add_edges_from(edgeMale)"
   ]
  },
  {
   "cell_type": "code",
   "execution_count": 71,
   "metadata": {},
   "outputs": [
    {
     "data": {
      "text/plain": [
       "70403"
      ]
     },
     "execution_count": 71,
     "metadata": {},
     "output_type": "execute_result"
    }
   ],
   "source": [
    "len(gM.edges())"
   ]
  },
  {
   "cell_type": "code",
   "execution_count": 77,
   "metadata": {},
   "outputs": [
    {
     "ename": "NameError",
     "evalue": "name 'gS' is not defined",
     "output_type": "error",
     "traceback": [
      "\u001b[1;31m---------------------------------------------------------------------------\u001b[0m",
      "\u001b[1;31mNameError\u001b[0m                                 Traceback (most recent call last)",
      "\u001b[1;32m<ipython-input-77-a26d5a365b4d>\u001b[0m in \u001b[0;36m<module>\u001b[1;34m\u001b[0m\n\u001b[0;32m      1\u001b[0m \u001b[1;31m#Degree Centrality\u001b[0m\u001b[1;33m\u001b[0m\u001b[1;33m\u001b[0m\u001b[0m\n\u001b[0;32m      2\u001b[0m \u001b[0mdegM\u001b[0m \u001b[1;33m=\u001b[0m \u001b[0mnet\u001b[0m\u001b[1;33m.\u001b[0m\u001b[0mdegree\u001b[0m\u001b[1;33m(\u001b[0m\u001b[0mgM\u001b[0m\u001b[1;33m)\u001b[0m\u001b[1;33m\u001b[0m\u001b[0m\n\u001b[1;32m----> 3\u001b[1;33m \u001b[0mdegS\u001b[0m \u001b[1;33m=\u001b[0m \u001b[0mnet\u001b[0m\u001b[1;33m.\u001b[0m\u001b[0mdegree\u001b[0m\u001b[1;33m(\u001b[0m\u001b[0mgS\u001b[0m\u001b[1;33m)\u001b[0m\u001b[1;33m\u001b[0m\u001b[0m\n\u001b[0m",
      "\u001b[1;31mNameError\u001b[0m: name 'gS' is not defined"
     ]
    }
   ],
   "source": []
  },
  {
   "cell_type": "code",
   "execution_count": 73,
   "metadata": {},
   "outputs": [],
   "source": [
    "#Create en Empty graph\n",
    "gF = net.Graph()"
   ]
  },
  {
   "cell_type": "code",
   "execution_count": 74,
   "metadata": {},
   "outputs": [],
   "source": [
    "#Add edges to the graph\n",
    "gF.add_edges_from(edgeFemal)"
   ]
  },
  {
   "cell_type": "code",
   "execution_count": 75,
   "metadata": {},
   "outputs": [
    {
     "data": {
      "text/plain": [
       "23597"
      ]
     },
     "execution_count": 75,
     "metadata": {},
     "output_type": "execute_result"
    }
   ],
   "source": [
    "#Length of edges\n",
    "len(gF.edges())"
   ]
  },
  {
   "cell_type": "code",
   "execution_count": 78,
   "metadata": {},
   "outputs": [],
   "source": [
    "#Degree Centrality for male and female\n",
    "degM = net.degree(gM)\n",
    "degF = net.degree(gF)"
   ]
  },
  {
   "cell_type": "code",
   "execution_count": 80,
   "metadata": {},
   "outputs": [],
   "source": [
    "dsM = sorted_map(degM)\n",
    "dsF = sorted_map(degF)"
   ]
  },
  {
   "cell_type": "code",
   "execution_count": 81,
   "metadata": {},
   "outputs": [
    {
     "data": {
      "text/plain": [
       "['Pershing Square North',\n",
       " 'Broadway & E 22 St',\n",
       " 'S 5 Pl & S 5 St',\n",
       " 'Pershing Square South',\n",
       " 'E 47 St & Park Ave',\n",
       " '8 Ave & W 33 St',\n",
       " 'W 41 St & 8 Ave',\n",
       " '1 Ave & E 62 St',\n",
       " 'Forsyth St & Canal St',\n",
       " 'E 17 St & Broadway']"
      ]
     },
     "execution_count": 81,
     "metadata": {},
     "output_type": "execute_result"
    }
   ],
   "source": [
    "#Top 10 stations for male\n",
    "\n",
    "dsM[0:10]"
   ]
  },
  {
   "cell_type": "code",
   "execution_count": 82,
   "metadata": {},
   "outputs": [
    {
     "data": {
      "text/plain": [
       "['S 4 St & Wythe Ave',\n",
       " '1 Ave & E 44 St',\n",
       " '1 Ave & E 68 St',\n",
       " 'Grand St & Elizabeth St',\n",
       " 'Jay St & York St',\n",
       " 'Metropolitan Ave & Bedford Ave',\n",
       " '1 Ave & E 18 St',\n",
       " 'E 17 St & Broadway',\n",
       " 'St Marks Pl & 1 Ave',\n",
       " 'Wythe Ave & Metropolitan Ave']"
      ]
     },
     "execution_count": 82,
     "metadata": {},
     "output_type": "execute_result"
    }
   ],
   "source": [
    "dsF[0:10]"
   ]
  },
  {
   "cell_type": "code",
   "execution_count": null,
   "metadata": {},
   "outputs": [],
   "source": []
  },
  {
   "cell_type": "markdown",
   "metadata": {},
   "source": [
    "The list of top 10 stations are different for male and female"
   ]
  },
  {
   "cell_type": "code",
   "execution_count": 91,
   "metadata": {},
   "outputs": [
    {
     "data": {
      "image/png": "[encoded data removed]",
      "text/plain": [
       "<Figure size 432x288 with 1 Axes>"
      ]
     },
     "metadata": {
      "needs_background": "light"
     },
     "output_type": "display_data"
    }
   ],
   "source": [
    "#Plot histogram for Male\n",
    "(nM, bins, patches)=plot.hist(degM.values(),10)"
   ]
  },
  {
   "cell_type": "code",
   "execution_count": 92,
   "metadata": {},
   "outputs": [
    {
     "data": {
      "image/png": "[encoded data removed]",
      "text/plain": [
       "<Figure size 432x288 with 1 Axes>"
      ]
     },
     "metadata": {
      "needs_background": "light"
     },
     "output_type": "display_data"
    }
   ],
   "source": [
    "#Plot histogram for Female\n",
    "(nF, bins, patches)=plot.hist(degF.values(), 10)"
   ]
  },
  {
   "cell_type": "markdown",
   "metadata": {},
   "source": [
    "Testing is required to determine if these distributions are the same. To use a t-test both distributions must be approximately normal.\n"
   ]
  },
  {
   "cell_type": "markdown",
   "metadata": {},
   "source": [
    "we check if residuals follow Normal (Gaussian) distribution. And that can be often visually verified by using a Q-Q plot such as the one presented below."
   ]
  },
  {
   "cell_type": "code",
   "execution_count": 94,
   "metadata": {},
   "outputs": [
    {
     "data": {
      "image/png": "[encoded data removed]",
      "text/plain": [
       "<Figure size 432x288 with 1 Axes>"
      ]
     },
     "metadata": {
      "needs_background": "light"
     },
     "output_type": "display_data"
    }
   ],
   "source": [
    "stats.probplot(list(degM.values()), dist=\"norm\", plot=pylab)\n",
    "pylab.show()"
   ]
  },
  {
   "cell_type": "code",
   "execution_count": 95,
   "metadata": {},
   "outputs": [
    {
     "data": {
      "image/png": "[encoded data removed]",
      "text/plain": [
       "<Figure size 432x288 with 1 Axes>"
      ]
     },
     "metadata": {
      "needs_background": "light"
     },
     "output_type": "display_data"
    }
   ],
   "source": [
    "stats.probplot(list(degF.values()), dist=\"norm\", plot=pylab)\n",
    "pylab.show()"
   ]
  },
  {
   "cell_type": "markdown",
   "metadata": {},
   "source": [
    "The next step is to check the variances with an F-test."
   ]
  },
  {
   "cell_type": "code",
   "execution_count": 98,
   "metadata": {},
   "outputs": [],
   "source": [
    "#F-test for male relative to female\n",
    "FM = np.var(list(degM.values())/np.var(list(degF.values())))"
   ]
  },
  {
   "cell_type": "code",
   "execution_count": 99,
   "metadata": {},
   "outputs": [
    {
     "data": {
      "text/plain": [
       "0.015687768576237274"
      ]
     },
     "execution_count": 99,
     "metadata": {},
     "output_type": "execute_result"
    }
   ],
   "source": [
    "FM"
   ]
  },
  {
   "cell_type": "code",
   "execution_count": 106,
   "metadata": {},
   "outputs": [],
   "source": [
    "#Do an F-test with alpha = 0.05\n",
    "#get degrees of freedom\n",
    "dfM = len(list(degM.values())) - 1\n",
    "dfF = len(list(degF.values())) - 1"
   ]
  },
  {
   "cell_type": "code",
   "execution_count": 107,
   "metadata": {},
   "outputs": [
    {
     "data": {
      "text/plain": [
       "0.0"
      ]
     },
     "execution_count": 107,
     "metadata": {},
     "output_type": "execute_result"
    }
   ],
   "source": [
    "p_value = stats.f.cdf(FM, dfM, dfF)\n",
    "p_value"
   ]
  },
  {
   "cell_type": "code",
   "execution_count": 111,
   "metadata": {},
   "outputs": [
    {
     "name": "stdout",
     "output_type": "stream",
     "text": [
      "p =  1.0695834536753997e-208\n",
      "significant\n"
     ]
    }
   ],
   "source": [
    "t,p = stats.ttest_ind(list(degM.values()), list(degF.values()))\n",
    "print ('p = ',p)\n",
    "if p < 0.05:\n",
    "    print ('significant')\n",
    "else:\n",
    "    print ('not significant')"
   ]
  },
  {
   "cell_type": "markdown",
   "metadata": {},
   "source": [
    "There is a statistically significant difference between Male and Female distributions of degree centrality"
   ]
  },
  {
   "cell_type": "markdown",
   "metadata": {},
   "source": [
    "Compute eigenvector centrality for Males and Females"
   ]
  },
  {
   "cell_type": "code",
   "execution_count": 112,
   "metadata": {},
   "outputs": [],
   "source": [
    "eM = net.Graph(gM)\n",
    "eF = net.Graph(gF)"
   ]
  },
  {
   "cell_type": "code",
   "execution_count": 114,
   "metadata": {},
   "outputs": [],
   "source": [
    "egM = net.eigenvector_centrality(eM)\n",
    "egF = net.eigenvector_centrality(eF)"
   ]
  },
  {
   "cell_type": "code",
   "execution_count": 115,
   "metadata": {},
   "outputs": [],
   "source": [
    "egMs = sorted_map(egM)\n",
    "egFs = sorted_map(egF)"
   ]
  },
  {
   "cell_type": "code",
   "execution_count": 116,
   "metadata": {},
   "outputs": [
    {
     "data": {
      "text/plain": [
       "['Pershing Square North',\n",
       " '8 Ave & W 33 St',\n",
       " 'Pershing Square South',\n",
       " 'W 41 St & 8 Ave',\n",
       " 'E 47 St & Park Ave',\n",
       " 'Broadway & E 22 St',\n",
       " '8 Ave & W 31 St',\n",
       " 'W 33 St & 7 Ave',\n",
       " 'W 31 St & 7 Ave',\n",
       " 'W 38 St & 8 Ave']"
      ]
     },
     "execution_count": 116,
     "metadata": {},
     "output_type": "execute_result"
    }
   ],
   "source": [
    "egMs[0:10]"
   ]
  },
  {
   "cell_type": "code",
   "execution_count": 117,
   "metadata": {},
   "outputs": [
    {
     "data": {
      "text/plain": [
       "['1 Ave & E 44 St',\n",
       " 'E 9 St & Avenue C',\n",
       " '1 Ave & E 18 St',\n",
       " 'Grand St & Elizabeth St',\n",
       " 'E 25 St & 1 Ave',\n",
       " '6 Ave & Broome St',\n",
       " 'St Marks Pl & 1 Ave',\n",
       " 'University Pl & E 14 St',\n",
       " 'E 17 St & Broadway',\n",
       " '1 Ave & E 68 St']"
      ]
     },
     "execution_count": 117,
     "metadata": {},
     "output_type": "execute_result"
    }
   ],
   "source": [
    "egFs[0:10]"
   ]
  },
  {
   "cell_type": "markdown",
   "metadata": {},
   "source": [
    "Both list of top 10 are very different"
   ]
  },
  {
   "cell_type": "code",
   "execution_count": 120,
   "metadata": {},
   "outputs": [
    {
     "data": {
      "image/png": "[encoded data removed]",
      "text/plain": [
       "<Figure size 432x288 with 1 Axes>"
      ]
     },
     "metadata": {
      "needs_background": "light"
     },
     "output_type": "display_data"
    }
   ],
   "source": [
    "h=plot.hist(egM.values(),20)"
   ]
  },
  {
   "cell_type": "code",
   "execution_count": 121,
   "metadata": {},
   "outputs": [
    {
     "data": {
      "image/png": "[encoded data removed]",
      "text/plain": [
       "<Figure size 432x288 with 1 Axes>"
      ]
     },
     "metadata": {
      "needs_background": "light"
     },
     "output_type": "display_data"
    }
   ],
   "source": [
    "h=plot.hist(egF.values(),20)"
   ]
  },
  {
   "cell_type": "markdown",
   "metadata": {},
   "source": [
    "Let's check for normality and variance"
   ]
  },
  {
   "cell_type": "code",
   "execution_count": 123,
   "metadata": {},
   "outputs": [
    {
     "data": {
      "image/png": "[encoded data removed]",
      "text/plain": [
       "<Figure size 432x288 with 1 Axes>"
      ]
     },
     "metadata": {
      "needs_background": "light"
     },
     "output_type": "display_data"
    }
   ],
   "source": [
    "#QQ plot for male\n",
    "stats.probplot(list(egM.values()), dist=\"norm\", plot=pylab)\n",
    "pylab.show()"
   ]
  },
  {
   "cell_type": "markdown",
   "metadata": {},
   "source": [
    "The point deviates from the normal line"
   ]
  },
  {
   "cell_type": "code",
   "execution_count": 124,
   "metadata": {},
   "outputs": [
    {
     "data": {
      "image/png": "[encoded data removed]",
      "text/plain": [
       "<Figure size 432x288 with 1 Axes>"
      ]
     },
     "metadata": {
      "needs_background": "light"
     },
     "output_type": "display_data"
    }
   ],
   "source": [
    "stats.probplot(list(egF.values()), dist=\"norm\", plot=pylab)\n",
    "pylab.show()"
   ]
  },
  {
   "cell_type": "markdown",
   "metadata": {},
   "source": [
    "Both graph deviate for the normal distribution line"
   ]
  },
  {
   "cell_type": "code",
   "execution_count": 129,
   "metadata": {},
   "outputs": [
    {
     "name": "stdout",
     "output_type": "stream",
     "text": [
      "p =  0.06444890997751024\n",
      "not significant\n"
     ]
    }
   ],
   "source": [
    "t,p = stats.ttest_ind(list(egM.values()), list(egF.values()))\n",
    "print ('p = ',p)\n",
    "if p < 0.05:\n",
    "    print ('significant')\n",
    "else:\n",
    "    print ('not significant')"
   ]
  },
  {
   "cell_type": "markdown",
   "metadata": {},
   "source": [
    "There is no significance difference between the distribution of Male and female considering the eigenvector value."
   ]
  },
  {
   "cell_type": "markdown",
   "metadata": {},
   "source": [
    "References:\n",
    "https://github.com/sms2015/DATA-620/blob/master/Project%201.ipynb\n",
    "https://github.com/sms2015/DATA-620/blob/master/Project%201.ipynb\n",
    "https://docs.scipy.org/doc/scipy/reference/generated/scipy.stats.probplot.html\n",
    "https://www.statisticshowto.datasciencecentral.com/probability-and-statistics/hypothesis-testing/f-test/"
   ]
  }
 ],
 "metadata": {
  "kernelspec": {
   "display_name": "Python 3",
   "language": "python",
   "name": "python3"
  },
  "language_info": {
   "codemirror_mode": {
    "name": "ipython",
    "version": 3
   },
   "file_extension": ".py",
   "mimetype": "text/x-python",
   "name": "python",
   "nbconvert_exporter": "python",
   "pygments_lexer": "ipython3",
   "version": "3.7.0"
  }
 },
 "nbformat": 4,
 "nbformat_minor": 2
}
